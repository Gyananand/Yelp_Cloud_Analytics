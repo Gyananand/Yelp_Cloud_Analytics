{
 "cells": [
  {
   "cell_type": "code",
   "execution_count": 2,
   "id": "74ee5d9c",
   "metadata": {},
   "outputs": [
    {
     "name": "stdout",
     "output_type": "stream",
     "text": [
      "Total lines : 6990280, Lines per file : 699028\n",
      "JSON file successfully split into smaller parts\n"
     ]
    }
   ],
   "source": [
    "import json\n",
    "\n",
    "input_file = r\"C:\\Users\\08viv\\Downloads\\Yelp-JSON\\Yelp JSON\\yelp_dataset\\Yelp review split file\\yelp_academic_dataset_review.json\"\n",
    "output_prefix = \"split_file_\"\n",
    "num_files = 10\n",
    "\n",
    "with open(input_file, \"r\", encoding = \"utf8\") as f:\n",
    "    total_lines = sum(1 for _ in f)\n",
    "\n",
    "lines_per_files = total_lines // num_files\n",
    "\n",
    "print(f\"Total lines : {total_lines}, Lines per file : {lines_per_files}\")\n",
    "\n",
    "with open(input_file, \"r\", encoding = \"utf8\") as f:\n",
    "    for i in range (num_files):\n",
    "        output_file_name = f\"{output_prefix}{i+1}.json\"\n",
    "\n",
    "        with open(output_file_name, \"w\", encoding = \"utf8\") as out_file:\n",
    "            for j in range(lines_per_files):\n",
    "                line = f.readline()\n",
    "                if not line:\n",
    "                    break\n",
    "                out_file.write(line)\n",
    "\n",
    "print(\"JSON file successfully split into smaller parts\")\n",
    "\n"
   ]
  },
  {
   "cell_type": "code",
   "execution_count": null,
   "id": "5572f6bd",
   "metadata": {},
   "outputs": [],
   "source": []
  }
 ],
 "metadata": {
  "kernelspec": {
   "display_name": "base",
   "language": "python",
   "name": "python3"
  },
  "language_info": {
   "codemirror_mode": {
    "name": "ipython",
    "version": 3
   },
   "file_extension": ".py",
   "mimetype": "text/x-python",
   "name": "python",
   "nbconvert_exporter": "python",
   "pygments_lexer": "ipython3",
   "version": "3.12.4"
  }
 },
 "nbformat": 4,
 "nbformat_minor": 5
}
